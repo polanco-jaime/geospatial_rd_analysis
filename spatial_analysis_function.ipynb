{
  "nbformat": 4,
  "nbformat_minor": 0,
  "metadata": {
    "colab": {
      "provenance": [],
      "authorship_tag": "ABX9TyNYNA473bpSidEf1TLDvjVR",
      "include_colab_link": true
    },
    "kernelspec": {
      "name": "python3",
      "display_name": "Python 3"
    },
    "language_info": {
      "name": "python"
    }
  },
  "cells": [
    {
      "cell_type": "markdown",
      "metadata": {
        "id": "view-in-github",
        "colab_type": "text"
      },
      "source": [
        "<a href=\"https://colab.research.google.com/github/polanco-jaime/geospatial_rd_analysis/blob/main/spatial_analysis_function.ipynb\" target=\"_parent\"><img src=\"https://colab.research.google.com/assets/colab-badge.svg\" alt=\"Open In Colab\"/></a>"
      ]
    },
    {
      "cell_type": "code",
      "source": [
        "del spatial_analysis"
      ],
      "metadata": {
        "colab": {
          "base_uri": "https://localhost:8080/",
          "height": 165
        },
        "id": "Mipjw3hdUsPx",
        "outputId": "4221b378-3c6d-4630-f023-dac742902748"
      },
      "execution_count": 12,
      "outputs": [
        {
          "output_type": "error",
          "ename": "NameError",
          "evalue": "ignored",
          "traceback": [
            "\u001b[0;31m---------------------------------------------------------------------------\u001b[0m",
            "\u001b[0;31mNameError\u001b[0m                                 Traceback (most recent call last)",
            "\u001b[0;32m<ipython-input-12-e08abfa11061>\u001b[0m in \u001b[0;36m<cell line: 1>\u001b[0;34m()\u001b[0m\n\u001b[0;32m----> 1\u001b[0;31m \u001b[0;32mdel\u001b[0m \u001b[0mspatial_analysis\u001b[0m\u001b[0;34m\u001b[0m\u001b[0;34m\u001b[0m\u001b[0m\n\u001b[0m",
            "\u001b[0;31mNameError\u001b[0m: name 'spatial_analysis' is not defined"
          ]
        }
      ]
    },
    {
      "cell_type": "code",
      "execution_count": 1,
      "metadata": {
        "colab": {
          "base_uri": "https://localhost:8080/"
        },
        "id": "71hsC2bPTMG0",
        "outputId": "97a823fe-d42f-46bd-f10e-02be2f879b97"
      },
      "outputs": [
        {
          "output_type": "stream",
          "name": "stdout",
          "text": [
            "Looking in indexes: https://pypi.org/simple, https://us-python.pkg.dev/colab-wheels/public/simple/\n",
            "Collecting git+https://github.com/polanco-jaime/geospatial_rd_analysis.git\n",
            "  Cloning https://github.com/polanco-jaime/geospatial_rd_analysis.git to /tmp/pip-req-build-h4zq5hs9\n",
            "  Running command git clone --filter=blob:none --quiet https://github.com/polanco-jaime/geospatial_rd_analysis.git /tmp/pip-req-build-h4zq5hs9\n",
            "  Resolved https://github.com/polanco-jaime/geospatial_rd_analysis.git to commit b5252d2fe76a04ca61e9a724d192209df7ef328d\n",
            "  Preparing metadata (setup.py) ... \u001b[?25l\u001b[?25hdone\n",
            "Requirement already satisfied: numpy in /usr/local/lib/python3.10/dist-packages (from geospatial-rd-analysis==0.0.1) (1.22.4)\n",
            "Collecting geopandas>=0.9.0\n",
            "  Downloading geopandas-0.13.0-py3-none-any.whl (1.1 MB)\n",
            "\u001b[2K     \u001b[90m━━━━━━━━━━━━━━━━━━━━━━━━━━━━━━━━━━━━━━━━\u001b[0m \u001b[32m1.1/1.1 MB\u001b[0m \u001b[31m12.4 MB/s\u001b[0m eta \u001b[36m0:00:00\u001b[0m\n",
            "\u001b[?25hRequirement already satisfied: shapely>=1.7.0 in /usr/local/lib/python3.10/dist-packages (from geospatial-rd-analysis==0.0.1) (2.0.1)\n",
            "Collecting pyproj>=3.0.1\n",
            "  Downloading pyproj-3.5.0-cp310-cp310-manylinux_2_17_x86_64.manylinux2014_x86_64.whl (7.7 MB)\n",
            "\u001b[2K     \u001b[90m━━━━━━━━━━━━━━━━━━━━━━━━━━━━━━━━━━━━━━━━\u001b[0m \u001b[32m7.7/7.7 MB\u001b[0m \u001b[31m13.1 MB/s\u001b[0m eta \u001b[36m0:00:00\u001b[0m\n",
            "\u001b[?25hCollecting fiona>=1.8.19\n",
            "  Downloading Fiona-1.9.3-cp310-cp310-manylinux_2_17_x86_64.manylinux2014_x86_64.whl (16.0 MB)\n",
            "\u001b[2K     \u001b[90m━━━━━━━━━━━━━━━━━━━━━━━━━━━━━━━━━━━━━━━━\u001b[0m \u001b[32m16.0/16.0 MB\u001b[0m \u001b[31m18.2 MB/s\u001b[0m eta \u001b[36m0:00:00\u001b[0m\n",
            "\u001b[?25hRequirement already satisfied: packaging in /usr/local/lib/python3.10/dist-packages (from geopandas>=0.9.0->geospatial-rd-analysis==0.0.1) (23.1)\n",
            "Requirement already satisfied: pandas>=1.1.0 in /usr/local/lib/python3.10/dist-packages (from geopandas>=0.9.0->geospatial-rd-analysis==0.0.1) (1.5.3)\n",
            "Requirement already satisfied: click~=8.0 in /usr/local/lib/python3.10/dist-packages (from fiona>=1.8.19->geopandas>=0.9.0->geospatial-rd-analysis==0.0.1) (8.1.3)\n",
            "Collecting munch>=2.3.2\n",
            "  Downloading munch-2.5.0-py2.py3-none-any.whl (10 kB)\n",
            "Requirement already satisfied: attrs>=19.2.0 in /usr/local/lib/python3.10/dist-packages (from fiona>=1.8.19->geopandas>=0.9.0->geospatial-rd-analysis==0.0.1) (23.1.0)\n",
            "Requirement already satisfied: certifi in /usr/local/lib/python3.10/dist-packages (from fiona>=1.8.19->geopandas>=0.9.0->geospatial-rd-analysis==0.0.1) (2022.12.7)\n",
            "Collecting click-plugins>=1.0\n",
            "  Downloading click_plugins-1.1.1-py2.py3-none-any.whl (7.5 kB)\n",
            "Collecting cligj>=0.5\n",
            "  Downloading cligj-0.7.2-py3-none-any.whl (7.1 kB)\n",
            "Requirement already satisfied: python-dateutil>=2.8.1 in /usr/local/lib/python3.10/dist-packages (from pandas>=1.1.0->geopandas>=0.9.0->geospatial-rd-analysis==0.0.1) (2.8.2)\n",
            "Requirement already satisfied: pytz>=2020.1 in /usr/local/lib/python3.10/dist-packages (from pandas>=1.1.0->geopandas>=0.9.0->geospatial-rd-analysis==0.0.1) (2022.7.1)\n",
            "Requirement already satisfied: six in /usr/local/lib/python3.10/dist-packages (from munch>=2.3.2->fiona>=1.8.19->geopandas>=0.9.0->geospatial-rd-analysis==0.0.1) (1.16.0)\n",
            "Building wheels for collected packages: geospatial-rd-analysis\n",
            "  Building wheel for geospatial-rd-analysis (setup.py) ... \u001b[?25l\u001b[?25hdone\n",
            "  Created wheel for geospatial-rd-analysis: filename=geospatial_rd_analysis-0.0.1-py3-none-any.whl size=2658 sha256=c4852a22bca00fd5e42b663fd185a57bc9950cd94793a04035e1139f32800427\n",
            "  Stored in directory: /tmp/pip-ephem-wheel-cache-960peh78/wheels/bb/1d/15/f1fff2152f97149638206867196edb81ea2588b5cf0005fe12\n",
            "Successfully built geospatial-rd-analysis\n",
            "Installing collected packages: pyproj, munch, cligj, click-plugins, fiona, geopandas, geospatial-rd-analysis\n",
            "Successfully installed click-plugins-1.1.1 cligj-0.7.2 fiona-1.9.3 geopandas-0.13.0 geospatial-rd-analysis-0.0.1 munch-2.5.0 pyproj-3.5.0\n"
          ]
        }
      ],
      "source": [
        "!pip install git+https://github.com/polanco-jaime/geospatial_rd_analysis.git"
      ]
    },
    {
      "cell_type": "code",
      "source": [
        "from geospatial_rd_analysis.rd_distance import *"
      ],
      "metadata": {
        "id": "XDXURO9LTYSy"
      },
      "execution_count": 2,
      "outputs": []
    },
    {
      "cell_type": "code",
      "source": [
        "path = '/content/'\n",
        "result = spatial_analysis(At = path+\"upz.zip\", i= path+\"POZOS_EPIS_SGC.zip\", buffer=10000)"
      ],
      "metadata": {
        "colab": {
          "base_uri": "https://localhost:8080/"
        },
        "id": "wZ7RtQhYTPsI",
        "outputId": "c095e6f6-55fa-4105-d70b-1270a4df83e8"
      },
      "execution_count": 3,
      "outputs": [
        {
          "output_type": "stream",
          "name": "stderr",
          "text": [
            "/usr/local/lib/python3.10/dist-packages/geospatial_rd_analysis/rd_distance.py:29: UserWarning: Geometry is in a geographic CRS. Results from 'buffer' are likely incorrect. Use 'GeoSeries.to_crs()' to re-project geometries to a projected CRS before this operation.\n",
            "\n",
            "  At_gdf_buffer = At_gdf.buffer(buffer)\n",
            "/usr/local/lib/python3.10/dist-packages/geospatial_rd_analysis/rd_distance.py:39: UserWarning: Geometry is in a geographic CRS. Results from 'distance' are likely incorrect. Use 'GeoSeries.to_crs()' to re-project geometries to a projected CRS before this operation.\n",
            "\n",
            "  distances.append(At_gdf.distance(row.geometry).min())\n"
          ]
        }
      ]
    },
    {
      "cell_type": "code",
      "source": [
        "result.distance_to_At.describe()"
      ],
      "metadata": {
        "colab": {
          "base_uri": "https://localhost:8080/"
        },
        "id": "q1T4lf-DUEBJ",
        "outputId": "618c48ff-97d9-4582-9705-4fe4ab05b280"
      },
      "execution_count": 7,
      "outputs": [
        {
          "output_type": "execute_result",
          "data": {
            "text/plain": [
              "count    25296.0\n",
              "mean         0.0\n",
              "std          0.0\n",
              "min          0.0\n",
              "25%          0.0\n",
              "50%          0.0\n",
              "75%          0.0\n",
              "max          0.0\n",
              "Name: distance_to_At, dtype: float64"
            ]
          },
          "metadata": {},
          "execution_count": 7
        }
      ]
    }
  ]
}