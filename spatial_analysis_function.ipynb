{
  "nbformat": 4,
  "nbformat_minor": 0,
  "metadata": {
    "colab": {
      "provenance": [],
      "authorship_tag": "ABX9TyMKSoDpPnho0zNXKi6dD3Dw",
      "include_colab_link": true
    },
    "kernelspec": {
      "name": "python3",
      "display_name": "Python 3"
    },
    "language_info": {
      "name": "python"
    }
  },
  "cells": [
    {
      "cell_type": "markdown",
      "metadata": {
        "id": "view-in-github",
        "colab_type": "text"
      },
      "source": [
        "<a href=\"https://colab.research.google.com/github/polanco-jaime/geospatial_rd_analysis/blob/main/spatial_analysis_function.ipynb\" target=\"_parent\"><img src=\"https://colab.research.google.com/assets/colab-badge.svg\" alt=\"Open In Colab\"/></a>"
      ]
    },
    {
      "cell_type": "markdown",
      "source": [
        "# Install library for spatial analysis in Regression Discontinuities."
      ],
      "metadata": {
        "id": "4DoZZdaKWhLX"
      }
    },
    {
      "cell_type": "code",
      "execution_count": null,
      "metadata": {
        "id": "71hsC2bPTMG0"
      },
      "outputs": [],
      "source": [
        "!pip install git+https://github.com/polanco-jaime/geospatial_rd_analysis.git"
      ]
    },
    {
      "cell_type": "markdown",
      "source": [
        "#Import test example geometries"
      ],
      "metadata": {
        "id": "-npUN-EvWw4G"
      }
    },
    {
      "cell_type": "code",
      "source": [
        "!wget https://github.com/polanco-jaime/geospatial_rd_analysis/blob/main/Test/POZOS_EPIS_SGC.zip -O oil_well.zip\n",
        "!wget https://github.com/polanco-jaime/geospatial_rd_analysis/blob/main/Test/upz.zip -O  upz.zip\n"
      ],
      "metadata": {
        "id": "JEWt4Y_9W2Gu"
      },
      "execution_count": null,
      "outputs": []
    },
    {
      "cell_type": "markdown",
      "source": [
        "# Call the library and run it"
      ],
      "metadata": {
        "id": "lCjFszVaXW2-"
      }
    },
    {
      "cell_type": "code",
      "source": [
        "from geospatial_rd_analysis.rd_distance import *"
      ],
      "metadata": {
        "id": "XDXURO9LTYSy"
      },
      "execution_count": 21,
      "outputs": []
    },
    {
      "cell_type": "code",
      "source": [
        "path = '/content/'\n",
        "result = spatial_analysis(At = path+\"upz.zip\", i= path+\"oil_well.zip\", buffer=1000)"
      ],
      "metadata": {
        "id": "wZ7RtQhYTPsI"
      },
      "execution_count": null,
      "outputs": []
    },
    {
      "cell_type": "code",
      "source": [
        "result.columns"
      ],
      "metadata": {
        "colab": {
          "base_uri": "https://localhost:8080/"
        },
        "id": "yAVe1mtvXzrK",
        "outputId": "856febde-7f16-4e32-f4ed-c76c58c07f30"
      },
      "execution_count": 16,
      "outputs": [
        {
          "output_type": "execute_result",
          "data": {
            "text/plain": [
              "Index(['UWI', 'WELL_NAME', 'WELL_COUNT', 'DEPARTAMEN', 'WELL_COU_1',\n",
              "       'WELL_TVD', 'WELL_KB_EL', 'ROTARY_ELE', 'WELL_DRILL', 'WELL_GROUN',\n",
              "       'FIELD_ABRE', 'GEOLOGIC_P', 'CONTRATO', 'WELL_LONGI', 'WELL_LATIT',\n",
              "       'WELL_X_COO', 'WELL_Y_COO', 'WELL_X_C_1', 'WELL_Y_C_1', 'WELL_X_DEP',\n",
              "       'WELL_Y_DEP', 'DATUM', 'WELL_SPUD_', 'COORD_QUAL', 'DOCUMENTO',\n",
              "       'COMMENT_', 'WELL_COMPL', 'WELL_CLA_1', 'WELL_STA_1', 'WELLTYPE',\n",
              "       'FECHA_ACTU', 'ENTITLEMEN', 'ACTUALIZAD', 'CREAT_DATE', 'OPERATOR_W',\n",
              "       'COMPANY_CO', 'CARGA_SGC', 'CONT_EPIS', 'RELACIONAD', 'CLAS_FINAL',\n",
              "       'FORMACION_', 'FORMACION1', 'ESTRUCTURA', 'WELL_ALIAS', 'VISIBLE',\n",
              "       'geometry', 'distance_to_At'],\n",
              "      dtype='object')"
            ]
          },
          "metadata": {},
          "execution_count": 16
        }
      ]
    },
    {
      "cell_type": "code",
      "source": [
        "result.distance_to_At.describe()"
      ],
      "metadata": {
        "colab": {
          "base_uri": "https://localhost:8080/"
        },
        "id": "q1T4lf-DUEBJ",
        "outputId": "618c48ff-97d9-4582-9705-4fe4ab05b280"
      },
      "execution_count": 7,
      "outputs": [
        {
          "output_type": "execute_result",
          "data": {
            "text/plain": [
              "count    25296.0\n",
              "mean         0.0\n",
              "std          0.0\n",
              "min          0.0\n",
              "25%          0.0\n",
              "50%          0.0\n",
              "75%          0.0\n",
              "max          0.0\n",
              "Name: distance_to_At, dtype: float64"
            ]
          },
          "metadata": {},
          "execution_count": 7
        }
      ]
    }
  ]
}