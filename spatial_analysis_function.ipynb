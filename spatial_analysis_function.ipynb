{
  "nbformat": 4,
  "nbformat_minor": 0,
  "metadata": {
    "colab": {
      "provenance": [],
      "authorship_tag": "ABX9TyPZ1D+v6+ipMuha78519cHP",
      "include_colab_link": true
    },
    "kernelspec": {
      "name": "python3",
      "display_name": "Python 3"
    },
    "language_info": {
      "name": "python"
    }
  },
  "cells": [
    {
      "cell_type": "markdown",
      "metadata": {
        "id": "view-in-github",
        "colab_type": "text"
      },
      "source": [
        "<a href=\"https://colab.research.google.com/github/polanco-jaime/geospatial_rd_analysis/blob/main/spatial_analysis_function.ipynb\" target=\"_parent\"><img src=\"https://colab.research.google.com/assets/colab-badge.svg\" alt=\"Open In Colab\"/></a>"
      ]
    },
    {
      "cell_type": "markdown",
      "source": [
        "# Install library for spatial analysis in Regression Discontinuities."
      ],
      "metadata": {
        "id": "4DoZZdaKWhLX"
      }
    },
    {
      "cell_type": "code",
      "execution_count": null,
      "metadata": {
        "id": "71hsC2bPTMG0"
      },
      "outputs": [],
      "source": [
        "!pip install git+https://github.com/polanco-jaime/geospatial_rd_analysis.git\n"
      ]
    },
    {
      "cell_type": "markdown",
      "source": [
        "#Import test example geometries"
      ],
      "metadata": {
        "id": "-npUN-EvWw4G"
      }
    },
    {
      "cell_type": "code",
      "source": [
        "!git clone https://github.com/polanco-jaime/functions_files_test.git"
      ],
      "metadata": {
        "colab": {
          "base_uri": "https://localhost:8080/"
        },
        "id": "n82X2SjqpERz",
        "outputId": "2b2b1b9f-7525-4844-8320-747fa27762c4"
      },
      "execution_count": 3,
      "outputs": [
        {
          "output_type": "stream",
          "name": "stdout",
          "text": [
            "Cloning into 'functions_files_test'...\n",
            "remote: Enumerating objects: 5, done.\u001b[K\n",
            "remote: Counting objects: 100% (5/5), done.\u001b[K\n",
            "remote: Compressing objects: 100% (5/5), done.\u001b[K\n",
            "remote: Total 5 (delta 0), reused 5 (delta 0), pack-reused 0\u001b[K\n",
            "Unpacking objects: 100% (5/5), 4.19 MiB | 3.87 MiB/s, done.\n"
          ]
        }
      ]
    },
    {
      "cell_type": "markdown",
      "source": [
        "# Call the library and run it"
      ],
      "metadata": {
        "id": "lCjFszVaXW2-"
      }
    },
    {
      "cell_type": "code",
      "source": [
        "from geospatial_rd_analysis.rd_distance import *"
      ],
      "metadata": {
        "id": "XDXURO9LTYSy"
      },
      "execution_count": 4,
      "outputs": []
    },
    {
      "cell_type": "code",
      "source": [
        "path = '/content/functions_files_test/geospatial_rd_analysis_data_test/'\n",
        "result = spatial_analysis(At = path+\"upz.zip\",\n",
        "                          i= path+\"POZOS_EPIS_SGC.zip\", buffer=1000)"
      ],
      "metadata": {
        "id": "wZ7RtQhYTPsI"
      },
      "execution_count": 5,
      "outputs": []
    },
    {
      "cell_type": "code",
      "source": [
        "result[0].distance_to_At.describe()"
      ],
      "metadata": {
        "colab": {
          "base_uri": "https://localhost:8080/"
        },
        "id": "q1T4lf-DUEBJ",
        "outputId": "78502eca-657d-4005-b06d-e677cd7ff3c9"
      },
      "execution_count": 11,
      "outputs": [
        {
          "output_type": "execute_result",
          "data": {
            "text/plain": [
              "count    25296.0\n",
              "mean         0.0\n",
              "std          0.0\n",
              "min          0.0\n",
              "25%          0.0\n",
              "50%          0.0\n",
              "75%          0.0\n",
              "max          0.0\n",
              "Name: distance_to_At, dtype: float64"
            ]
          },
          "metadata": {},
          "execution_count": 11
        }
      ]
    }
  ]
}